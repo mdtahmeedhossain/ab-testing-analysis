{
 "cells": [
  {
   "cell_type": "markdown",
   "id": "57db4c2f-074a-44ef-87b8-8a424ad487c7",
   "metadata": {},
   "source": [
    "# A/B Testing Analysis: Free Trial Conversion Optimization"
   ]
  },
  {
   "cell_type": "markdown",
   "id": "07243988-08aa-4b2c-ae55-8b083ed82fe5",
   "metadata": {},
   "source": [
    "## Background\n",
    "\n",
    "Our company ABC wants to improve free trial conversion rates on our landing page. The current signup form is lengthy and we believe a simplified version will increase conversions. We designed an experiment where 50% of visitors are randomly assigned to see the current form (control), while 50% see the new streamlined form (treatment).\n",
    "\n",
    "In this simulation, control users have a 25% conversion rate and we expect the treatment to drive a relative increase of 12%."
   ]
  },
  {
   "cell_type": "code",
   "execution_count": 3,
   "id": "66d4cda2-d5d8-430d-9e6b-a5ad9b86909b",
   "metadata": {},
   "outputs": [],
   "source": [
    "# Import libraries\n",
    "import numpy as np\n",
    "import pandas as pd \n",
    "import matplotlib.pyplot as plt\n",
    "\n",
    "np.random.seed(98765)"
   ]
  },
  {
   "cell_type": "markdown",
   "id": "c144b6fd-8e3a-467a-abec-7965d38f3ec0",
   "metadata": {},
   "source": [
    "## Simulate Data"
   ]
  },
  {
   "cell_type": "code",
   "execution_count": 5,
   "id": "f26ec736-8b4a-4c32-93c8-4c2a6a76aed7",
   "metadata": {},
   "outputs": [
    {
     "name": "stdout",
     "output_type": "stream",
     "text": [
      "       count   mean\n",
      "group              \n",
      "0      39981  0.251\n",
      "1      40019  0.279\n"
     ]
    }
   ],
   "source": [
    "# experiment setup\n",
    "total_users = 80000\n",
    "\n",
    "# randomly assign users to groups\n",
    "user_groups = np.random.choice([0,1], size=total_users, p=[0.5,0.5])\n",
    "\n",
    "# conversion rates\n",
    "baseline_rate = 0.25\n",
    "relative_improvement = 0.12\n",
    "new_rate = baseline_rate * (1 + relative_improvement)\n",
    "\n",
    "# generate conversion outcomes based on group\n",
    "conversion_outcomes = np.where(user_groups==0, \n",
    "                              np.random.choice([0,1], size=total_users, p=[1-baseline_rate, baseline_rate]), \n",
    "                              np.random.choice([0,1], size=total_users, p=[1-new_rate, new_rate]))\n",
    "\n",
    "# create final dataset\n",
    "df = pd.DataFrame({\n",
    "    'group': user_groups,\n",
    "    'signup': conversion_outcomes\n",
    "})\n",
    "\n",
    "print(df.groupby(['group'])['signup'].agg(['count','mean']).round(3))"
   ]
  },
  {
   "cell_type": "markdown",
   "id": "8b503df1-8b36-4518-be34-ea0ae99a47f0",
   "metadata": {},
   "source": [
    "## Visualization"
   ]
  },
  {
   "cell_type": "code",
   "execution_count": 7,
   "id": "6f353e87-0245-4368-9031-6fa86dd612d0",
   "metadata": {},
   "outputs": [
    {
     "data": {
      "image/png": "[encoded data removed]",
      "text/plain": [
       "<Figure size 800x500 with 1 Axes>"
      ]
     },
     "metadata": {},
     "output_type": "display_data"
    }
   ],
   "source": [
    "# Simple bar chart comparing conversion rates\n",
    "group_results = df.groupby('group')['signup'].mean()\n",
    "\n",
    "plt.figure(figsize=(8,5))\n",
    "bars = plt.bar(['Control', 'Treatment'], group_results, color=['salmon', 'lightsteelblue'])\n",
    "plt.ylabel('Signup Rate')\n",
    "plt.title('A/B Test Results: Signup Rates by Group')\n",
    "plt.ylim(0, max(group_results) * 1.2)\n",
    "\n",
    "# Add value labels on bars\n",
    "for i, bar in enumerate(bars):\n",
    "    height = bar.get_height()\n",
    "    plt.text(bar.get_x() + bar.get_width()/2., height + 0.005,\n",
    "             f'{height:.3f}', ha='center', va='bottom')\n",
    "\n",
    "plt.show()"
   ]
  },
  {
   "cell_type": "markdown",
   "id": "44203721-cff1-4e46-bd68-c46c476c0d1e",
   "metadata": {},
   "source": [
    "## Statistical Analysis - Linear Regression"
   ]
  },
  {
   "cell_type": "code",
   "execution_count": 9,
   "id": "20bec096-0f94-455a-a56e-875000862854",
   "metadata": {},
   "outputs": [
    {
     "name": "stdout",
     "output_type": "stream",
     "text": [
      "                            OLS Regression Results                            \n",
      "==============================================================================\n",
      "Dep. Variable:                 signup   R-squared:                       0.001\n",
      "Model:                            OLS   Adj. R-squared:                  0.001\n",
      "Method:                 Least Squares   F-statistic:                     82.05\n",
      "Date:                Sun, 24 Aug 2025   Prob (F-statistic):           1.36e-19\n",
      "Time:                        13:15:20   Log-Likelihood:                -48023.\n",
      "No. Observations:               80000   AIC:                         9.605e+04\n",
      "Df Residuals:                   79998   BIC:                         9.607e+04\n",
      "Df Model:                           1                                         \n",
      "Covariance Type:            nonrobust                                         \n",
      "==============================================================================\n",
      "                 coef    std err          t      P>|t|      [0.025      0.975]\n",
      "------------------------------------------------------------------------------\n",
      "Intercept      0.2507      0.002    113.669      0.000       0.246       0.255\n",
      "group          0.0282      0.003      9.058      0.000       0.022       0.034\n",
      "==============================================================================\n",
      "Omnibus:                    19538.414   Durbin-Watson:                   1.996\n",
      "Prob(Omnibus):                  0.000   Jarque-Bera (JB):            17578.118\n",
      "Skew:                           1.064   Prob(JB):                         0.00\n",
      "Kurtosis:                       2.138   Cond. No.                         2.62\n",
      "==============================================================================\n",
      "\n",
      "Notes:\n",
      "[1] Standard Errors assume that the covariance matrix of the errors is correctly specified.\n"
     ]
    }
   ],
   "source": [
    "import statsmodels.formula.api as smf \n",
    "\n",
    "regression_formula = 'signup ~ group'\n",
    "regression_model = smf.ols(regression_formula, df).fit()\n",
    "\n",
    "print(regression_model.summary())"
   ]
  },
  {
   "cell_type": "markdown",
   "id": "15e95300-16f0-45aa-8cd9-ebf828dabfd7",
   "metadata": {},
   "source": [
    "## Extract Key Results"
   ]
  },
  {
   "cell_type": "code",
   "execution_count": 11,
   "id": "b41110b1-c357-4c05-8351-9d1e55f1571e",
   "metadata": {},
   "outputs": [
    {
     "name": "stdout",
     "output_type": "stream",
     "text": [
      "The estimated absolute impact is: 2.82%       \n",
      "The estimated relative impact is 11.27%       \n",
      "The t-statistic is 9.1       \n",
      "The p-value is 0.000%\n"
     ]
    }
   ],
   "source": [
    "print(\"The estimated absolute impact is: {0:.2f}% \\\n",
    "      \\nThe estimated relative impact is {1:.2f}% \\\n",
    "      \\nThe t-statistic is {2:.1f} \\\n",
    "      \\nThe p-value is {3:.3f}%\".format(\n",
    "        100*regression_model.params['group'],\n",
    "        100*regression_model.params['group']/regression_model.params['Intercept'],\n",
    "        regression_model.tvalues['group'],\n",
    "        100*regression_model.pvalues['group']\n",
    "))"
   ]
  },
  {
   "cell_type": "markdown",
   "id": "0e93bdb2-8878-4e37-acf6-4d6de1039e7c",
   "metadata": {},
   "source": [
    "## T-Test Verification"
   ]
  },
  {
   "cell_type": "code",
   "execution_count": 13,
   "id": "804843c9-c59a-4fbe-8778-762e124e5f26",
   "metadata": {},
   "outputs": [
    {
     "name": "stdout",
     "output_type": "stream",
     "text": [
      "t-statistic: 9.06\n",
      "p-value: 0.0\n"
     ]
    }
   ],
   "source": [
    "from scipy.stats import ttest_ind \n",
    "\n",
    "group_new = df[df['group']==1]['signup']\n",
    "group_original = df[df['group']==0]['signup']\n",
    "\n",
    "t_statistic, p_val = ttest_ind(group_new, group_original)\n",
    "\n",
    "print(f\"t-statistic: {round(t_statistic,2)}\")\n",
    "print(f\"p-value: {round(p_val,4)}\")"
   ]
  },
  {
   "cell_type": "markdown",
   "id": "836705c9-dc4b-4476-ba16-ceb268d904cc",
   "metadata": {},
   "source": [
    "## Conclusion\n",
    "\n",
    "We simulated an experiment where the true treatment effect was designed to increase conversion rates by 12% relative to a baseline of 25%. Our analysis showed:\n",
    "\n",
    "- **Control group conversion rate**: 25.1%\n",
    "- **Treatment group conversion rate**: 27.9%  \n",
    "- **Estimated relative impact**: 11.27% (close to our expected 12%)\n",
    "- **Absolute impact**: 2.82 percentage points\n",
    "- **Statistical significance**: Highly significant (p < 0.001)\n",
    "\n",
    "The results demonstrate that the new streamlined form significantly outperforms the original form, with the observed effect very close to our expected improvement. The high statistical significance (t-statistic = 9.06) gives us confidence that this is a real improvement, not due to random chance."
   ]
  },
  {
   "cell_type": "code",
   "execution_count": null,
   "id": "ebca1351-ddad-4d54-8ef4-1d89922d6f18",
   "metadata": {},
   "outputs": [],
   "source": []
  }
 ],
 "metadata": {
  "kernelspec": {
   "display_name": "Python [conda env:base] *",
   "language": "python",
   "name": "conda-base-py"
  },
  "language_info": {
   "codemirror_mode": {
    "name": "ipython",
    "version": 3
   },
   "file_extension": ".py",
   "mimetype": "text/x-python",
   "name": "python",
   "nbconvert_exporter": "python",
   "pygments_lexer": "ipython3",
   "version": "3.12.7"
  }
 },
 "nbformat": 4,
 "nbformat_minor": 5
}
